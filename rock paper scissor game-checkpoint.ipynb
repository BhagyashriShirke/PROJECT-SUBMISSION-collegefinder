{
 "cells": [
  {
   "cell_type": "markdown",
   "metadata": {},
   "source": [
    "# project 2-rock paper scissor game"
   ]
  },
  {
   "cell_type": "code",
   "execution_count": 4,
   "metadata": {},
   "outputs": [
    {
     "name": "stdout",
     "output_type": "stream",
     "text": [
      "choose between r/p/s(rock/paper/scissor)\n",
      "p\n",
      "choose between r/p/s(rock/paper/scissor)\n",
      "p\n",
      "palyer1 choose p and palyer2 choose p,thats a tie\n"
     ]
    }
   ],
   "source": [
    "#user input\n",
    "player1=str(input(\"choose between r/p/s(rock/paper/scissor)\\n\"))\n",
    "player2=str(input(\"choose between r/p/s(rock/paper/scissor)\\n\"))\n",
    "\n",
    "#logic using conditional checks\n",
    "##logic for ROCK\n",
    "if (player1==\"r\") and (player2==\"r\"):\n",
    "    print(\"palyer1 choose {option1} and palyer2 choose {option2},play again thats a tie \".format(option1=player1,option2=player2))\n",
    "elif(player1==\"r\") and (player2==\"s\"): \n",
    "    print(\"palyer2 choose {option2} and palyer1 choose {option1},player1 won the game\".format(option1=player1,option2=player2))    \n",
    "elif(player1==\"r\") and (player2==\"p\"): \n",
    "    print(\"palyer1 choose {option1} and palyer2 choose {option2},player2 won the game\".format(option1=player1,option2=player2))\n",
    "\n",
    "##logic for SCISSOR\n",
    "if (player1==\"s\") and (player2==\"s\"):\n",
    "    print(\"palyer1 choose {option1} and palyer2 choose {option2},play again thats a tie\".format(option1=player1,option2=player2))\n",
    "elif(player1==\"s\") and (player2==\"p\"): \n",
    "    print(\"palyer2 choose {option2} and palyer1 choose {option1}, player1 won the game\".format(option1=player1,option2=player2))    \n",
    "elif(player1==\"s\") and (player2==\"r\"): \n",
    "    print(\"palyer1 choose {option1} and palyer2 choose {option2},player2 won the game\".format(option1=player1,option2=player2))\n",
    "\n",
    "##logic for PAPER\n",
    "if (player1==\"p\") and (player2==\"p\"):\n",
    "    print(\"palyer1 choose {option1} and palyer2 choose {option2},play again thats a tie\".format(option1=player1,option2=player2))\n",
    "elif(player1==\"p\") and (player2==\"r\"): \n",
    "    print(\"palyer2 choose {option2} and palyer1 choose {option1},player1 won the game\".format(option1=player1,option2=player2))    \n",
    "elif(player1==\"p\") and (player2==\"s\"): \n",
    "    print(\"palyer1 choose {option1} and palyer2 choose {option2},player2 won the game\".format(option1=player1,option2=player2))\n",
    "\n",
    "##LOGIC FOR ERROR\n",
    "else:\n",
    "    print(\"choose correct option\")"
   ]
  },
  {
   "cell_type": "code",
   "execution_count": null,
   "metadata": {},
   "outputs": [],
   "source": []
  },
  {
   "cell_type": "code",
   "execution_count": null,
   "metadata": {},
   "outputs": [],
   "source": []
  },
  {
   "cell_type": "code",
   "execution_count": null,
   "metadata": {},
   "outputs": [],
   "source": []
  }
 ],
 "metadata": {
  "kernelspec": {
   "display_name": "Python 3",
   "language": "python",
   "name": "python3"
  },
  "language_info": {
   "codemirror_mode": {
    "name": "ipython",
    "version": 3
   },
   "file_extension": ".py",
   "mimetype": "text/x-python",
   "name": "python",
   "nbconvert_exporter": "python",
   "pygments_lexer": "ipython3",
   "version": "3.7.6"
  }
 },
 "nbformat": 4,
 "nbformat_minor": 4
}
