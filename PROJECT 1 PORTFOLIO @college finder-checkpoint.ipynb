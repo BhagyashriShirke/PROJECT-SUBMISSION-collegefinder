{
 "cells": [
  {
   "cell_type": "markdown",
   "metadata": {},
   "source": [
    "# PROJECT 1-STUDENT PORTFOLIO"
   ]
  },
  {
   "cell_type": "code",
   "execution_count": 1,
   "metadata": {
    "scrolled": true
   },
   "outputs": [
    {
     "name": "stdout",
     "output_type": "stream",
     "text": [
      "Enter name of student: BHAGYASHRI SWATI MAHADEV SHIRKE \n",
      "enter class and division of student: BE E&TC\n",
      "enter Roll number: 0123\n",
      "enter subject1: MATHs\n",
      "enter marks for MATHs: 98\n",
      "enter subject2: SCIENCE\n",
      "enter marks for SCIENCE: 96\n",
      "enter subject3: ENGLISH\n",
      "enter marks for ENGLISH: 97\n",
      "Student Details:\n",
      "NAME OF STUDENT: BHAGYASHRI SWATI MAHADEV SHIRKE \n",
      "CLASS AND DIVISION: BE E&TC\n",
      "STUDENT ROLL NUMBER: 0123\n",
      "marks of MATHs  =98\n",
      "marks of SCIENCE=96\n",
      "marks of ENGLISH=97\n",
      "OVERALL percentage=  97.0\n"
     ]
    }
   ],
   "source": [
    "name=input(\"Enter name of student: \")\n",
    "ClassDiv=input(\"enter class and division of student: \")\n",
    "RollNum=input(\"enter Roll number: \")\n",
    "subject1=input(\"enter subject1: \")\n",
    "subject1marks=int(input(\"enter marks for \"+subject1+\": \"))\n",
    "subject2=input(\"enter subject2: \")\n",
    "subject2marks=int(input(\"enter marks for \"+subject2+\": \"))\n",
    "subject3=input(\"enter subject3: \")\n",
    "subject3marks=int(input(\"enter marks for \"+subject3+\": \"))\n",
    "percentage=((subject1marks)+(subject2marks)+(subject3marks))/300*100\n",
    "print(\"Student Details:\")\n",
    "print(\"NAME OF STUDENT: \"+name)\n",
    "print(\"CLASS AND DIVISION: \"+ClassDiv)\n",
    "print(\"STUDENT ROLL NUMBER: \"+RollNum)\n",
    "print(\"marks of \"+subject1 + \"  =\" + str(subject1marks))\n",
    "print(\"marks of \"+subject2 + \"=\"   + str(subject2marks))\n",
    "print(\"marks of \"+subject3 + \"=\"   + str(subject3marks))\n",
    "print(\"OVERALL percentage= \",+percentage)"
   ]
  },
  {
   "cell_type": "code",
   "execution_count": null,
   "metadata": {},
   "outputs": [],
   "source": []
  },
  {
   "cell_type": "code",
   "execution_count": null,
   "metadata": {},
   "outputs": [],
   "source": []
  }
 ],
 "metadata": {
  "kernelspec": {
   "display_name": "Python 3",
   "language": "python",
   "name": "python3"
  },
  "language_info": {
   "codemirror_mode": {
    "name": "ipython",
    "version": 3
   },
   "file_extension": ".py",
   "mimetype": "text/x-python",
   "name": "python",
   "nbconvert_exporter": "python",
   "pygments_lexer": "ipython3",
   "version": "3.7.6"
  }
 },
 "nbformat": 4,
 "nbformat_minor": 4
}
