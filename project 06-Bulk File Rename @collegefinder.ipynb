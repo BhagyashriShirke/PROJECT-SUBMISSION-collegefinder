{
 "cells": [
  {
   "cell_type": "code",
   "execution_count": 1,
   "metadata": {},
   "outputs": [
    {
     "name": "stdout",
     "output_type": "stream",
     "text": [
      "C:\\Users\\vishal\\Desktop\\projects\\PYTHON\\Python Renamer\n"
     ]
    }
   ],
   "source": [
    "import os\n",
    " \n",
    "os.chdir('C:\\\\Users\\\\bhagyashri\\\\Desktop\\\\projects\\\\PYTHON\\\\Python Renamer')\n",
    "print(os.getcwd())\n",
    " \n",
    "for counter, f in enumerate(os.listdir()):\n",
    "    f_name, f_ext = os.path.splitext(f)\n",
    "    f_name = \"ANY_NAME\" + str(counter)\n",
    "     #       \"changeable_name_enter_here\" +str()\n",
    "    new_name = f'{f_name}{f_ext}'\n",
    "    os.rename(f, new_name)"
   ]
  },
  {
   "cell_type": "code",
   "execution_count": null,
   "metadata": {},
   "outputs": [],
   "source": []
  }
 ],
 "metadata": {
  "kernelspec": {
   "display_name": "Python 3",
   "language": "python",
   "name": "python3"
  },
  "language_info": {
   "codemirror_mode": {
    "name": "ipython",
    "version": 3
   },
   "file_extension": ".py",
   "mimetype": "text/x-python",
   "name": "python",
   "nbconvert_exporter": "python",
   "pygments_lexer": "ipython3",
   "version": "3.7.6"
  }
 },
 "nbformat": 4,
 "nbformat_minor": 4
}
