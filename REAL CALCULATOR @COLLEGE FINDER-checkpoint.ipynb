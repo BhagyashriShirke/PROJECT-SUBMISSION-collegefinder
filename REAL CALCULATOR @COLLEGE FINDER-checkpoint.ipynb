{
 "cells": [
  {
   "cell_type": "markdown",
   "metadata": {},
   "source": [
    "# real calculator"
   ]
  },
  {
   "cell_type": "code",
   "execution_count": 2,
   "metadata": {},
   "outputs": [
    {
     "name": "stdout",
     "output_type": "stream",
     "text": [
      "Enter your equation: 8 / 4\n",
      "The division of 8 and 4 is : 2.0\n"
     ]
    }
   ],
   "source": [
    "def add(a,b):\n",
    "    addition = a+b\n",
    "    print('The sum of {0} and {1} is : {2}'.format(a, b, addition))#formatted strings\n",
    "\n",
    "def subtract(a,b):\n",
    "    subtraction = a-b\n",
    "    print('The subtraction of {0} and {1} is : {2}'.format(a, b, subtraction))\n",
    "\n",
    "def multiply(a,b):\n",
    "    multiplication = a*b\n",
    "    print('The multiplication of {0} and {1} is : {2}'.format(a, b, multiplication))\n",
    "\n",
    "def division(a,b):\n",
    "    division = a/b\n",
    "    print('The division of {0} and {1} is : {2}'.format(a, b, division))\n",
    "\n",
    "# accepting multiple inputs in a single\n",
    "number1,operator,number2 = map(str, input(\"Enter your equation: \").split()) # 8 / 9\n",
    "number1 = int(number1)\n",
    "number2 = int(number2)\n",
    "\n",
    "# shift+alt+down\n",
    "\n",
    "if operator == \"+\":\n",
    "    add(number1,number2)\n",
    "    \n",
    "elif operator == \"-\":\n",
    "    subtract(number1,number2)\n",
    "    \n",
    "elif operator == \"*\":\n",
    "    multiply(number1,number2)\n",
    "    \n",
    "elif operator == \"/\":\n",
    "    division(number1,number2)\n",
    "    \n",
    "else:\n",
    "    print(\"Invalid Typo Error! Type something like - 8 / 4 or 9 + 10 or 10 * 20 or 10 + 90\")\n",
    "    \n"
   ]
  },
  {
   "cell_type": "code",
   "execution_count": null,
   "metadata": {},
   "outputs": [],
   "source": []
  },
  {
   "cell_type": "code",
   "execution_count": null,
   "metadata": {},
   "outputs": [],
   "source": []
  }
 ],
 "metadata": {
  "kernelspec": {
   "display_name": "Python 3",
   "language": "python",
   "name": "python3"
  },
  "language_info": {
   "codemirror_mode": {
    "name": "ipython",
    "version": 3
   },
   "file_extension": ".py",
   "mimetype": "text/x-python",
   "name": "python",
   "nbconvert_exporter": "python",
   "pygments_lexer": "ipython3",
   "version": "3.7.6"
  }
 },
 "nbformat": 4,
 "nbformat_minor": 4
}
