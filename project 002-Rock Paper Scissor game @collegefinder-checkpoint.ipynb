{
 "cells": [
  {
   "cell_type": "markdown",
   "metadata": {},
   "source": [
    "# Rock Paper Scissor game @collegefinder"
   ]
  },
  {
   "cell_type": "code",
   "execution_count": 4,
   "metadata": {},
   "outputs": [
    {
     "name": "stdout",
     "output_type": "stream",
     "text": [
      "Rock Paper Scissor game\n",
      "**************************************************\n",
      "enter first player name = a\n",
      "enter second  player name = s\n",
      "**************************************************\n",
      "hello A and S\n",
      "      ,welcome to Rock Paper Scissor game\n",
      "\n",
      " Before playing this game,please read following Rules:\n",
      "\n",
      "            Rules:\n",
      "                  1)Rock beats Scissors (rock blunts scissors),\n",
      "                    Scissors beats Paper (scissors cuts paper),\n",
      "                    Paper beats Rock (paper covers rock).\n",
      "\n",
      "                  2)If both players present the same gesture, the turn is a draw and repeated.\n",
      "BEST OF LUCK\n",
      "**************************************************\n",
      "a,\n",
      "      enter your choice= a\n",
      "s,\n",
      "      enter your choice = x\n",
      "**************************************************\n",
      "not valid choice ,please pay again \n",
      "you can choose only rock,paper or scissor\n",
      "**************************************************\n"
     ]
    }
   ],
   "source": [
    "print(\"Rock Paper Scissor game\" )\n",
    "print(\"*\"*50)\n",
    "\n",
    "player1=str(input(\"enter first player name = \"))\n",
    "player2=str(input(\"enter second  player name = \"))\n",
    "\n",
    "print(\"*\"*50)\n",
    "\n",
    "\n",
    "print(\"hello \" +str(player1.upper()) +\" and \" +str(player2.upper())+\n",
    "                \"\\n      ,welcome to Rock Paper Scissor game\")\n",
    "#RULES\n",
    "print(\"\\n Before playing this game,please read following Rules:\\n\"  )\n",
    "print(\"            Rules:\\n\"\"                  1)Rock beats Scissors (rock blunts scissors),\"\n",
    "                        \"\\n                    Scissors beats Paper (scissors cuts paper),\"\n",
    "                        \"\\n                    Paper beats Rock (paper covers rock).\\n\"\n",
    "                        \"\\n                  2)If both players present the same gesture, the turn is a draw and repeated.\")\n",
    "print(\"BEST OF LUCK\")\n",
    "\n",
    "print(\"*\"*50)\n",
    "\n",
    "\n",
    "choice1=str(input(player1+ \",\\n      enter your choice= \"))\n",
    "choice2=str(input(player2+ \",\\n      enter your choice = \"))\n",
    "print(\"*\"*50)\n",
    "        \n",
    "\n",
    "if (choice1==\"rock\") and (choice2==\"paper\"):\n",
    "    print(player2 +\" won this game,\\n              Congratulation well played\")\n",
    "    if(choice1==\"paper\") and (choice2==\"scissor\"):\n",
    "        print(player2 +\" won this game,\\n              Congratulation well played\")\n",
    "        if(choice1==\"scissor\") and (choice2==\"rock\"):  \n",
    "           print(player2 +\" won this game,\\n              Congratulation well played\")\n",
    "\n",
    "elif (choice1==\"rock\") and (choice2==\"rock\"):\n",
    "    print(\"play again,same choice\" )\n",
    "elif (choice1==\"paper\") and (choice2==\"paper\"):\n",
    "    print(\"play again,same choice\" )\n",
    "elif (choice1==\"scissor\") and (choice2==\"scissor\"):\n",
    "    print(\"play again,same choice\" )\n",
    "\n",
    "if (choice1!=\"rock\") or (choice1!=\"paper\") or (choice1!=\"paper\"):\n",
    "    if (choice2!=\"rock\") or (choice2!=\"paper\") or (choice2!=\"paper\"):\n",
    "        print(\"not valid choice ,please pay again \")\n",
    "        print(\"you can choose only rock,paper or scissor\")\n",
    "else:\n",
    "     print(player1 +\" won this game,\\n              Congratulation well played\")\n",
    "print(\"*\"*50)       "
   ]
  },
  {
   "cell_type": "code",
   "execution_count": null,
   "metadata": {},
   "outputs": [],
   "source": []
  }
 ],
 "metadata": {
  "kernelspec": {
   "display_name": "Python 3",
   "language": "python",
   "name": "python3"
  },
  "language_info": {
   "codemirror_mode": {
    "name": "ipython",
    "version": 3
   },
   "file_extension": ".py",
   "mimetype": "text/x-python",
   "name": "python",
   "nbconvert_exporter": "python",
   "pygments_lexer": "ipython3",
   "version": "3.7.6"
  }
 },
 "nbformat": 4,
 "nbformat_minor": 4
}
